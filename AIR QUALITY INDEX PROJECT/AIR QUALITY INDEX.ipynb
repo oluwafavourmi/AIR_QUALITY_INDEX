{
 "cells": [
  {
   "cell_type": "markdown",
   "id": "4e1b747c",
   "metadata": {},
   "source": [
    "### IMPORT THE NECESSARY LIBRARIES\n",
    "We imported the following libraries useful for our project:\n",
    "1. Numpy\n",
    "2. Pandas\n",
    "3. Seaborn\n",
    "4. Matplotlib"
   ]
  },
  {
   "cell_type": "code",
   "execution_count": 1,
   "id": "40d2d320",
   "metadata": {},
   "outputs": [],
   "source": [
    "import numpy as np\n",
    "import pandas as pd\n",
    "import seaborn as sns\n",
    "import matplotlib.pyplot as plt"
   ]
  },
  {
   "cell_type": "markdown",
   "id": "08b21d58",
   "metadata": {},
   "source": [
    "### USE THE PANDAS LIBRARY TO READ THE DATASET\n",
    "We view the datasets using the pandas library, to see what we have in the rows and columns"
   ]
  },
  {
   "cell_type": "code",
   "execution_count": 2,
   "id": "54af5791",
   "metadata": {},
   "outputs": [
    {
     "data": {
      "text/html": [
       "<div>\n",
       "<style scoped>\n",
       "    .dataframe tbody tr th:only-of-type {\n",
       "        vertical-align: middle;\n",
       "    }\n",
       "\n",
       "    .dataframe tbody tr th {\n",
       "        vertical-align: top;\n",
       "    }\n",
       "\n",
       "    .dataframe thead th {\n",
       "        text-align: right;\n",
       "    }\n",
       "</style>\n",
       "<table border=\"1\" class=\"dataframe\">\n",
       "  <thead>\n",
       "    <tr style=\"text-align: right;\">\n",
       "      <th></th>\n",
       "      <th>Id</th>\n",
       "      <th>Mounths</th>\n",
       "      <th>PM10 in æg/m3</th>\n",
       "      <th>SO2 in æg/m3</th>\n",
       "      <th>NOx  in æg/m3</th>\n",
       "      <th>PM2.5  in æg/m3</th>\n",
       "      <th>Ammonia - NH3  in æg/m3</th>\n",
       "      <th>O3   in æg/m3</th>\n",
       "      <th>CO  in mg/m3</th>\n",
       "      <th>Benzene  in æg/m3</th>\n",
       "      <th>AQI</th>\n",
       "    </tr>\n",
       "  </thead>\n",
       "  <tbody>\n",
       "    <tr>\n",
       "      <th>0</th>\n",
       "      <td>1</td>\n",
       "      <td>Jan-17</td>\n",
       "      <td>174.0</td>\n",
       "      <td>26.4</td>\n",
       "      <td>35.0</td>\n",
       "      <td>79</td>\n",
       "      <td>25.0</td>\n",
       "      <td>107.6</td>\n",
       "      <td>0.90</td>\n",
       "      <td>0.70</td>\n",
       "      <td>149.0</td>\n",
       "    </tr>\n",
       "    <tr>\n",
       "      <th>1</th>\n",
       "      <td>2</td>\n",
       "      <td>Feb-17</td>\n",
       "      <td>143.0</td>\n",
       "      <td>35.1</td>\n",
       "      <td>40.3</td>\n",
       "      <td>75</td>\n",
       "      <td>31.0</td>\n",
       "      <td>103.0</td>\n",
       "      <td>0.90</td>\n",
       "      <td>0.90</td>\n",
       "      <td>129.0</td>\n",
       "    </tr>\n",
       "    <tr>\n",
       "      <th>2</th>\n",
       "      <td>3</td>\n",
       "      <td>Mar-17</td>\n",
       "      <td>142.0</td>\n",
       "      <td>32.1</td>\n",
       "      <td>30.9</td>\n",
       "      <td>59</td>\n",
       "      <td>26.0</td>\n",
       "      <td>80.7</td>\n",
       "      <td>0.80</td>\n",
       "      <td>0.50</td>\n",
       "      <td>128.0</td>\n",
       "    </tr>\n",
       "    <tr>\n",
       "      <th>3</th>\n",
       "      <td>4</td>\n",
       "      <td>Apr-17</td>\n",
       "      <td>117.0</td>\n",
       "      <td>50.9</td>\n",
       "      <td>36.3</td>\n",
       "      <td>75</td>\n",
       "      <td>36.0</td>\n",
       "      <td>79.5</td>\n",
       "      <td>0.90</td>\n",
       "      <td>0.70</td>\n",
       "      <td>111.0</td>\n",
       "    </tr>\n",
       "    <tr>\n",
       "      <th>4</th>\n",
       "      <td>5</td>\n",
       "      <td>May-17</td>\n",
       "      <td>NaN</td>\n",
       "      <td>41.6</td>\n",
       "      <td>25.2</td>\n",
       "      <td>53</td>\n",
       "      <td>28.0</td>\n",
       "      <td>70.0</td>\n",
       "      <td>0.50</td>\n",
       "      <td>0.50</td>\n",
       "      <td>NaN</td>\n",
       "    </tr>\n",
       "    <tr>\n",
       "      <th>...</th>\n",
       "      <td>...</td>\n",
       "      <td>...</td>\n",
       "      <td>...</td>\n",
       "      <td>...</td>\n",
       "      <td>...</td>\n",
       "      <td>...</td>\n",
       "      <td>...</td>\n",
       "      <td>...</td>\n",
       "      <td>...</td>\n",
       "      <td>...</td>\n",
       "      <td>...</td>\n",
       "    </tr>\n",
       "    <tr>\n",
       "      <th>67</th>\n",
       "      <td>68</td>\n",
       "      <td>Aug-22</td>\n",
       "      <td>89.0</td>\n",
       "      <td>12.0</td>\n",
       "      <td>35.0</td>\n",
       "      <td>22</td>\n",
       "      <td>26.0</td>\n",
       "      <td>15.2</td>\n",
       "      <td>0.64</td>\n",
       "      <td>0.09</td>\n",
       "      <td>67.0</td>\n",
       "    </tr>\n",
       "    <tr>\n",
       "      <th>68</th>\n",
       "      <td>69</td>\n",
       "      <td>Sep-22</td>\n",
       "      <td>92.0</td>\n",
       "      <td>13.0</td>\n",
       "      <td>37.3</td>\n",
       "      <td>30</td>\n",
       "      <td>31.0</td>\n",
       "      <td>10.0</td>\n",
       "      <td>0.70</td>\n",
       "      <td>0.06</td>\n",
       "      <td>76.0</td>\n",
       "    </tr>\n",
       "    <tr>\n",
       "      <th>69</th>\n",
       "      <td>70</td>\n",
       "      <td>Oct-22</td>\n",
       "      <td>93.0</td>\n",
       "      <td>12.0</td>\n",
       "      <td>30.7</td>\n",
       "      <td>46</td>\n",
       "      <td>28.0</td>\n",
       "      <td>9.7</td>\n",
       "      <td>0.67</td>\n",
       "      <td>0.07</td>\n",
       "      <td>101.0</td>\n",
       "    </tr>\n",
       "    <tr>\n",
       "      <th>70</th>\n",
       "      <td>71</td>\n",
       "      <td>Nov-22</td>\n",
       "      <td>87.0</td>\n",
       "      <td>10.4</td>\n",
       "      <td>28.2</td>\n",
       "      <td>78</td>\n",
       "      <td>30.0</td>\n",
       "      <td>12.1</td>\n",
       "      <td>1.52</td>\n",
       "      <td>0.03</td>\n",
       "      <td>166.0</td>\n",
       "    </tr>\n",
       "    <tr>\n",
       "      <th>71</th>\n",
       "      <td>72</td>\n",
       "      <td>Dec-22</td>\n",
       "      <td>88.0</td>\n",
       "      <td>13.0</td>\n",
       "      <td>34.5</td>\n",
       "      <td>72</td>\n",
       "      <td>15.0</td>\n",
       "      <td>16.5</td>\n",
       "      <td>1.39</td>\n",
       "      <td>0.04</td>\n",
       "      <td>162.0</td>\n",
       "    </tr>\n",
       "  </tbody>\n",
       "</table>\n",
       "<p>72 rows × 11 columns</p>\n",
       "</div>"
      ],
      "text/plain": [
       "    Id Mounths  PM10 in æg/m3  SO2 in æg/m3  NOx  in æg/m3   PM2.5  in æg/m3  \\\n",
       "0    1  Jan-17          174.0          26.4           35.0                79   \n",
       "1    2  Feb-17          143.0          35.1           40.3                75   \n",
       "2    3  Mar-17          142.0          32.1           30.9                59   \n",
       "3    4  Apr-17          117.0          50.9           36.3                75   \n",
       "4    5  May-17            NaN          41.6           25.2                53   \n",
       "..  ..     ...            ...           ...            ...               ...   \n",
       "67  68  Aug-22           89.0          12.0           35.0                22   \n",
       "68  69  Sep-22           92.0          13.0           37.3                30   \n",
       "69  70  Oct-22           93.0          12.0           30.7                46   \n",
       "70  71  Nov-22           87.0          10.4           28.2                78   \n",
       "71  72  Dec-22           88.0          13.0           34.5                72   \n",
       "\n",
       "    Ammonia - NH3  in æg/m3  O3   in æg/m3  CO  in mg/m3   Benzene  in æg/m3  \\\n",
       "0                      25.0          107.6          0.90                0.70   \n",
       "1                      31.0          103.0          0.90                0.90   \n",
       "2                      26.0           80.7          0.80                0.50   \n",
       "3                      36.0           79.5          0.90                0.70   \n",
       "4                      28.0           70.0          0.50                0.50   \n",
       "..                      ...            ...           ...                 ...   \n",
       "67                     26.0           15.2          0.64                0.09   \n",
       "68                     31.0           10.0          0.70                0.06   \n",
       "69                     28.0            9.7          0.67                0.07   \n",
       "70                     30.0           12.1          1.52                0.03   \n",
       "71                     15.0           16.5          1.39                0.04   \n",
       "\n",
       "      AQI  \n",
       "0   149.0  \n",
       "1   129.0  \n",
       "2   128.0  \n",
       "3   111.0  \n",
       "4     NaN  \n",
       "..    ...  \n",
       "67   67.0  \n",
       "68   76.0  \n",
       "69  101.0  \n",
       "70  166.0  \n",
       "71  162.0  \n",
       "\n",
       "[72 rows x 11 columns]"
      ]
     },
     "execution_count": 2,
     "metadata": {},
     "output_type": "execute_result"
    }
   ],
   "source": [
    "df = pd.read_csv('AQI Data Set.csv')\n",
    "df"
   ]
  },
  {
   "cell_type": "code",
   "execution_count": 3,
   "id": "97b1e427",
   "metadata": {},
   "outputs": [
    {
     "data": {
      "text/plain": [
       "['Id',\n",
       " 'Mounths',\n",
       " 'PM10 in æg/m3',\n",
       " 'SO2 in æg/m3',\n",
       " 'NOx  in æg/m3',\n",
       " ' PM2.5  in æg/m3',\n",
       " 'Ammonia - NH3  in æg/m3',\n",
       " 'O3   in æg/m3',\n",
       " 'CO  in mg/m3',\n",
       " ' Benzene  in æg/m3',\n",
       " 'AQI']"
      ]
     },
     "execution_count": 3,
     "metadata": {},
     "output_type": "execute_result"
    }
   ],
   "source": [
    "list(df)"
   ]
  },
  {
   "cell_type": "markdown",
   "id": "782fe460",
   "metadata": {},
   "source": [
    "### CHECK FOR MISSING VALUES\n",
    "To proceed we need to check for missing values in the datasets and if they exist, we proceed to fill them up\n",
    "From our observations, we find out that:\n",
    "1. PM10 column has 6 missing values\n",
    "2. SO2 column has 1 missing value\n",
    "3. NOx column has 2 missing values\n",
    "4. AQI column has 5 missing values"
   ]
  },
  {
   "cell_type": "code",
   "execution_count": 4,
   "id": "910c5a9d",
   "metadata": {},
   "outputs": [
    {
     "data": {
      "text/plain": [
       "Id                         0\n",
       "Mounths                    0\n",
       "PM10 in æg/m3              6\n",
       "SO2 in æg/m3               1\n",
       "NOx  in æg/m3              2\n",
       " PM2.5  in æg/m3           0\n",
       "Ammonia - NH3  in æg/m3    0\n",
       "O3   in æg/m3              0\n",
       "CO  in mg/m3               0\n",
       " Benzene  in æg/m3         0\n",
       "AQI                        5\n",
       "dtype: int64"
      ]
     },
     "execution_count": 4,
     "metadata": {},
     "output_type": "execute_result"
    }
   ],
   "source": [
    "df.isnull().sum()"
   ]
  },
  {
   "cell_type": "markdown",
   "id": "1851129c",
   "metadata": {},
   "source": [
    "### FILLING OF THE MISSING VALUES\n",
    "\n",
    "We filled in the columns that have missing values\n",
    "\n",
    "PM10, SO2, NOx and AQI columns were we have NaN or null values were all replaced with their various means\n"
   ]
  },
  {
   "cell_type": "code",
   "execution_count": 5,
   "id": "9491dbdc",
   "metadata": {},
   "outputs": [
    {
     "data": {
      "text/plain": [
       "['Id',\n",
       " 'Mounths',\n",
       " 'PM10 in æg/m3',\n",
       " 'SO2 in æg/m3',\n",
       " 'NOx  in æg/m3',\n",
       " ' PM2.5  in æg/m3',\n",
       " 'Ammonia - NH3  in æg/m3',\n",
       " 'O3   in æg/m3',\n",
       " 'CO  in mg/m3',\n",
       " ' Benzene  in æg/m3',\n",
       " 'AQI']"
      ]
     },
     "execution_count": 5,
     "metadata": {},
     "output_type": "execute_result"
    }
   ],
   "source": [
    "list(df)"
   ]
  },
  {
   "cell_type": "code",
   "execution_count": 6,
   "id": "8adcf384",
   "metadata": {},
   "outputs": [],
   "source": [
    "pm_mean = df['PM10 in æg/m3'].mean()\n",
    "pm_mean\n",
    "df['PM10 in æg/m3'] = df['PM10 in æg/m3'].fillna(pm_mean)"
   ]
  },
  {
   "cell_type": "code",
   "execution_count": 7,
   "id": "8a2838d6",
   "metadata": {},
   "outputs": [
    {
     "data": {
      "text/plain": [
       "0"
      ]
     },
     "execution_count": 7,
     "metadata": {},
     "output_type": "execute_result"
    }
   ],
   "source": [
    "df['PM10 in æg/m3'].isnull().sum()"
   ]
  },
  {
   "cell_type": "code",
   "execution_count": 8,
   "id": "3b80dc2a",
   "metadata": {},
   "outputs": [],
   "source": [
    "so_mean = df['SO2 in æg/m3'].mean()\n",
    "df['SO2 in æg/m3'] = df['SO2 in æg/m3'].fillna(so_mean)"
   ]
  },
  {
   "cell_type": "code",
   "execution_count": 9,
   "id": "ee893a8a",
   "metadata": {},
   "outputs": [
    {
     "data": {
      "text/plain": [
       "0"
      ]
     },
     "execution_count": 9,
     "metadata": {},
     "output_type": "execute_result"
    }
   ],
   "source": [
    "df['SO2 in æg/m3'].isnull().sum()"
   ]
  },
  {
   "cell_type": "code",
   "execution_count": 10,
   "id": "fde7867c",
   "metadata": {},
   "outputs": [],
   "source": [
    "no_mean = df['NOx  in æg/m3'].mean()\n",
    "df['NOx  in æg/m3'] = df['NOx  in æg/m3'].fillna(no_mean)"
   ]
  },
  {
   "cell_type": "code",
   "execution_count": 11,
   "id": "65b92410",
   "metadata": {},
   "outputs": [
    {
     "data": {
      "text/plain": [
       "0"
      ]
     },
     "execution_count": 11,
     "metadata": {},
     "output_type": "execute_result"
    }
   ],
   "source": [
    "df['NOx  in æg/m3'].isnull().sum()"
   ]
  },
  {
   "cell_type": "code",
   "execution_count": 12,
   "id": "bc0c3c5f",
   "metadata": {},
   "outputs": [],
   "source": [
    "aqi_mean = df['AQI'].mean()\n",
    "df['AQI'] = df['AQI'].fillna(aqi_mean)"
   ]
  },
  {
   "cell_type": "code",
   "execution_count": 13,
   "id": "7775c2ed",
   "metadata": {},
   "outputs": [
    {
     "data": {
      "text/plain": [
       "0"
      ]
     },
     "execution_count": 13,
     "metadata": {},
     "output_type": "execute_result"
    }
   ],
   "source": [
    "df['AQI'].isnull().sum()"
   ]
  },
  {
   "cell_type": "code",
   "execution_count": 14,
   "id": "e4d9e513",
   "metadata": {},
   "outputs": [],
   "source": [
    "x_df = df.drop(['AQI', 'Id', 'Mounths'], axis=1)"
   ]
  },
  {
   "cell_type": "code",
   "execution_count": 15,
   "id": "10ab9faa",
   "metadata": {},
   "outputs": [
    {
     "data": {
      "text/html": [
       "<div>\n",
       "<style scoped>\n",
       "    .dataframe tbody tr th:only-of-type {\n",
       "        vertical-align: middle;\n",
       "    }\n",
       "\n",
       "    .dataframe tbody tr th {\n",
       "        vertical-align: top;\n",
       "    }\n",
       "\n",
       "    .dataframe thead th {\n",
       "        text-align: right;\n",
       "    }\n",
       "</style>\n",
       "<table border=\"1\" class=\"dataframe\">\n",
       "  <thead>\n",
       "    <tr style=\"text-align: right;\">\n",
       "      <th></th>\n",
       "      <th>PM10 in æg/m3</th>\n",
       "      <th>SO2 in æg/m3</th>\n",
       "      <th>NOx  in æg/m3</th>\n",
       "      <th>PM2.5  in æg/m3</th>\n",
       "      <th>Ammonia - NH3  in æg/m3</th>\n",
       "      <th>O3   in æg/m3</th>\n",
       "      <th>CO  in mg/m3</th>\n",
       "      <th>Benzene  in æg/m3</th>\n",
       "    </tr>\n",
       "  </thead>\n",
       "  <tbody>\n",
       "    <tr>\n",
       "      <th>count</th>\n",
       "      <td>72.000000</td>\n",
       "      <td>72.000000</td>\n",
       "      <td>72.000000</td>\n",
       "      <td>72.000000</td>\n",
       "      <td>72.000000</td>\n",
       "      <td>72.000000</td>\n",
       "      <td>72.000000</td>\n",
       "      <td>72.00000</td>\n",
       "    </tr>\n",
       "    <tr>\n",
       "      <th>mean</th>\n",
       "      <td>109.393939</td>\n",
       "      <td>16.650704</td>\n",
       "      <td>30.171429</td>\n",
       "      <td>46.722222</td>\n",
       "      <td>23.997222</td>\n",
       "      <td>27.790278</td>\n",
       "      <td>0.549722</td>\n",
       "      <td>0.22500</td>\n",
       "    </tr>\n",
       "    <tr>\n",
       "      <th>std</th>\n",
       "      <td>24.180005</td>\n",
       "      <td>9.714602</td>\n",
       "      <td>4.091218</td>\n",
       "      <td>20.224251</td>\n",
       "      <td>5.824450</td>\n",
       "      <td>22.585906</td>\n",
       "      <td>0.238764</td>\n",
       "      <td>0.19307</td>\n",
       "    </tr>\n",
       "    <tr>\n",
       "      <th>min</th>\n",
       "      <td>76.000000</td>\n",
       "      <td>4.000000</td>\n",
       "      <td>18.400000</td>\n",
       "      <td>12.000000</td>\n",
       "      <td>11.000000</td>\n",
       "      <td>2.400000</td>\n",
       "      <td>0.200000</td>\n",
       "      <td>0.00000</td>\n",
       "    </tr>\n",
       "    <tr>\n",
       "      <th>25%</th>\n",
       "      <td>90.750000</td>\n",
       "      <td>9.950000</td>\n",
       "      <td>28.075000</td>\n",
       "      <td>27.000000</td>\n",
       "      <td>20.000000</td>\n",
       "      <td>12.475000</td>\n",
       "      <td>0.400000</td>\n",
       "      <td>0.10000</td>\n",
       "    </tr>\n",
       "    <tr>\n",
       "      <th>50%</th>\n",
       "      <td>105.500000</td>\n",
       "      <td>14.100000</td>\n",
       "      <td>29.750000</td>\n",
       "      <td>47.000000</td>\n",
       "      <td>23.000000</td>\n",
       "      <td>20.750000</td>\n",
       "      <td>0.500000</td>\n",
       "      <td>0.20000</td>\n",
       "    </tr>\n",
       "    <tr>\n",
       "      <th>75%</th>\n",
       "      <td>123.500000</td>\n",
       "      <td>19.000000</td>\n",
       "      <td>32.450000</td>\n",
       "      <td>63.000000</td>\n",
       "      <td>28.000000</td>\n",
       "      <td>35.550000</td>\n",
       "      <td>0.647500</td>\n",
       "      <td>0.30000</td>\n",
       "    </tr>\n",
       "    <tr>\n",
       "      <th>max</th>\n",
       "      <td>178.000000</td>\n",
       "      <td>50.900000</td>\n",
       "      <td>40.300000</td>\n",
       "      <td>87.000000</td>\n",
       "      <td>37.000000</td>\n",
       "      <td>107.600000</td>\n",
       "      <td>1.520000</td>\n",
       "      <td>0.90000</td>\n",
       "    </tr>\n",
       "  </tbody>\n",
       "</table>\n",
       "</div>"
      ],
      "text/plain": [
       "       PM10 in æg/m3  SO2 in æg/m3  NOx  in æg/m3   PM2.5  in æg/m3  \\\n",
       "count      72.000000     72.000000      72.000000         72.000000   \n",
       "mean      109.393939     16.650704      30.171429         46.722222   \n",
       "std        24.180005      9.714602       4.091218         20.224251   \n",
       "min        76.000000      4.000000      18.400000         12.000000   \n",
       "25%        90.750000      9.950000      28.075000         27.000000   \n",
       "50%       105.500000     14.100000      29.750000         47.000000   \n",
       "75%       123.500000     19.000000      32.450000         63.000000   \n",
       "max       178.000000     50.900000      40.300000         87.000000   \n",
       "\n",
       "       Ammonia - NH3  in æg/m3  O3   in æg/m3  CO  in mg/m3  \\\n",
       "count                72.000000      72.000000     72.000000   \n",
       "mean                 23.997222      27.790278      0.549722   \n",
       "std                   5.824450      22.585906      0.238764   \n",
       "min                  11.000000       2.400000      0.200000   \n",
       "25%                  20.000000      12.475000      0.400000   \n",
       "50%                  23.000000      20.750000      0.500000   \n",
       "75%                  28.000000      35.550000      0.647500   \n",
       "max                  37.000000     107.600000      1.520000   \n",
       "\n",
       "        Benzene  in æg/m3  \n",
       "count            72.00000  \n",
       "mean              0.22500  \n",
       "std               0.19307  \n",
       "min               0.00000  \n",
       "25%               0.10000  \n",
       "50%               0.20000  \n",
       "75%               0.30000  \n",
       "max               0.90000  "
      ]
     },
     "execution_count": 15,
     "metadata": {},
     "output_type": "execute_result"
    }
   ],
   "source": [
    "x_df.describe()"
   ]
  },
  {
   "cell_type": "markdown",
   "id": "8c472b4c",
   "metadata": {},
   "source": [
    "### DESCRIPTION OF THE WHOLE DATASET\n",
    "We have to see more information about the dataset by describing it.\n",
    "\n",
    "From the table we have below, we observe the following:\n",
    "\n",
    "1. All columns have a value counts of 72, which implies that no missing value(s) exist here\n",
    "2. From the AQI(which is our target column):\n",
    "       25% of the data fall under 92\n",
    "       50% of the data fall under 104.500\n",
    "       75% of the data fall under 119\n",
    "       the minimum AQI value we have here is 58.0\n",
    "       the maximum AQI value we have here is 166\n",
    "       and the mean of this particular dataset is 105.5716"
   ]
  },
  {
   "cell_type": "markdown",
   "id": "a32c8ae2",
   "metadata": {},
   "source": [
    "### CORRELATE ALL THE COLUMNS TO GAIN INSIGHTS\n",
    "We really need to see how each independent variables correlate either well or badly with one another to draw insights\n",
    "\n",
    "The seaborn heatmap fun ction is used to visualize these correlation points\n",
    "\n",
    "From the visualization of the correlation values we find out that:\n",
    "\n",
    "    1. Benzene and SO2 have a correlation of 0.6992\n",
    "    2. Benzene and O3 have a positive correlation of 0.68\n",
    "    3. CO and PM2 have a correlation 0.562\n",
    "    4. SO2 and O3 have a positive correlation of 0.509"
   ]
  },
  {
   "cell_type": "code",
   "execution_count": 16,
   "id": "5caa9e42",
   "metadata": {},
   "outputs": [
    {
     "data": {
      "text/html": [
       "<div>\n",
       "<style scoped>\n",
       "    .dataframe tbody tr th:only-of-type {\n",
       "        vertical-align: middle;\n",
       "    }\n",
       "\n",
       "    .dataframe tbody tr th {\n",
       "        vertical-align: top;\n",
       "    }\n",
       "\n",
       "    .dataframe thead th {\n",
       "        text-align: right;\n",
       "    }\n",
       "</style>\n",
       "<table border=\"1\" class=\"dataframe\">\n",
       "  <thead>\n",
       "    <tr style=\"text-align: right;\">\n",
       "      <th></th>\n",
       "      <th>PM10 in æg/m3</th>\n",
       "      <th>SO2 in æg/m3</th>\n",
       "      <th>NOx  in æg/m3</th>\n",
       "      <th>PM2.5  in æg/m3</th>\n",
       "      <th>Ammonia - NH3  in æg/m3</th>\n",
       "      <th>O3   in æg/m3</th>\n",
       "      <th>CO  in mg/m3</th>\n",
       "      <th>Benzene  in æg/m3</th>\n",
       "    </tr>\n",
       "  </thead>\n",
       "  <tbody>\n",
       "    <tr>\n",
       "      <th>PM10 in æg/m3</th>\n",
       "      <td>1.000000</td>\n",
       "      <td>0.119228</td>\n",
       "      <td>0.253533</td>\n",
       "      <td>0.168049</td>\n",
       "      <td>-0.100426</td>\n",
       "      <td>0.446483</td>\n",
       "      <td>-0.007884</td>\n",
       "      <td>0.419375</td>\n",
       "    </tr>\n",
       "    <tr>\n",
       "      <th>SO2 in æg/m3</th>\n",
       "      <td>0.119228</td>\n",
       "      <td>1.000000</td>\n",
       "      <td>-0.182140</td>\n",
       "      <td>-0.053426</td>\n",
       "      <td>0.335743</td>\n",
       "      <td>0.509611</td>\n",
       "      <td>0.000399</td>\n",
       "      <td>0.699201</td>\n",
       "    </tr>\n",
       "    <tr>\n",
       "      <th>NOx  in æg/m3</th>\n",
       "      <td>0.253533</td>\n",
       "      <td>-0.182140</td>\n",
       "      <td>1.000000</td>\n",
       "      <td>0.304698</td>\n",
       "      <td>0.071392</td>\n",
       "      <td>0.261076</td>\n",
       "      <td>0.444384</td>\n",
       "      <td>-0.014736</td>\n",
       "    </tr>\n",
       "    <tr>\n",
       "      <th>PM2.5  in æg/m3</th>\n",
       "      <td>0.168049</td>\n",
       "      <td>-0.053426</td>\n",
       "      <td>0.304698</td>\n",
       "      <td>1.000000</td>\n",
       "      <td>-0.238329</td>\n",
       "      <td>0.469481</td>\n",
       "      <td>0.562101</td>\n",
       "      <td>0.130828</td>\n",
       "    </tr>\n",
       "    <tr>\n",
       "      <th>Ammonia - NH3  in æg/m3</th>\n",
       "      <td>-0.100426</td>\n",
       "      <td>0.335743</td>\n",
       "      <td>0.071392</td>\n",
       "      <td>-0.238329</td>\n",
       "      <td>1.000000</td>\n",
       "      <td>0.048212</td>\n",
       "      <td>0.059247</td>\n",
       "      <td>0.331720</td>\n",
       "    </tr>\n",
       "    <tr>\n",
       "      <th>O3   in æg/m3</th>\n",
       "      <td>0.446483</td>\n",
       "      <td>0.509611</td>\n",
       "      <td>0.261076</td>\n",
       "      <td>0.469481</td>\n",
       "      <td>0.048212</td>\n",
       "      <td>1.000000</td>\n",
       "      <td>0.290117</td>\n",
       "      <td>0.681788</td>\n",
       "    </tr>\n",
       "    <tr>\n",
       "      <th>CO  in mg/m3</th>\n",
       "      <td>-0.007884</td>\n",
       "      <td>0.000399</td>\n",
       "      <td>0.444384</td>\n",
       "      <td>0.562101</td>\n",
       "      <td>0.059247</td>\n",
       "      <td>0.290117</td>\n",
       "      <td>1.000000</td>\n",
       "      <td>-0.050718</td>\n",
       "    </tr>\n",
       "    <tr>\n",
       "      <th>Benzene  in æg/m3</th>\n",
       "      <td>0.419375</td>\n",
       "      <td>0.699201</td>\n",
       "      <td>-0.014736</td>\n",
       "      <td>0.130828</td>\n",
       "      <td>0.331720</td>\n",
       "      <td>0.681788</td>\n",
       "      <td>-0.050718</td>\n",
       "      <td>1.000000</td>\n",
       "    </tr>\n",
       "  </tbody>\n",
       "</table>\n",
       "</div>"
      ],
      "text/plain": [
       "                         PM10 in æg/m3  SO2 in æg/m3  NOx  in æg/m3  \\\n",
       "PM10 in æg/m3                 1.000000      0.119228       0.253533   \n",
       "SO2 in æg/m3                  0.119228      1.000000      -0.182140   \n",
       "NOx  in æg/m3                 0.253533     -0.182140       1.000000   \n",
       " PM2.5  in æg/m3              0.168049     -0.053426       0.304698   \n",
       "Ammonia - NH3  in æg/m3      -0.100426      0.335743       0.071392   \n",
       "O3   in æg/m3                 0.446483      0.509611       0.261076   \n",
       "CO  in mg/m3                 -0.007884      0.000399       0.444384   \n",
       " Benzene  in æg/m3            0.419375      0.699201      -0.014736   \n",
       "\n",
       "                          PM2.5  in æg/m3  Ammonia - NH3  in æg/m3  \\\n",
       "PM10 in æg/m3                    0.168049                -0.100426   \n",
       "SO2 in æg/m3                    -0.053426                 0.335743   \n",
       "NOx  in æg/m3                    0.304698                 0.071392   \n",
       " PM2.5  in æg/m3                 1.000000                -0.238329   \n",
       "Ammonia - NH3  in æg/m3         -0.238329                 1.000000   \n",
       "O3   in æg/m3                    0.469481                 0.048212   \n",
       "CO  in mg/m3                     0.562101                 0.059247   \n",
       " Benzene  in æg/m3               0.130828                 0.331720   \n",
       "\n",
       "                         O3   in æg/m3  CO  in mg/m3   Benzene  in æg/m3  \n",
       "PM10 in æg/m3                 0.446483     -0.007884            0.419375  \n",
       "SO2 in æg/m3                  0.509611      0.000399            0.699201  \n",
       "NOx  in æg/m3                 0.261076      0.444384           -0.014736  \n",
       " PM2.5  in æg/m3              0.469481      0.562101            0.130828  \n",
       "Ammonia - NH3  in æg/m3       0.048212      0.059247            0.331720  \n",
       "O3   in æg/m3                 1.000000      0.290117            0.681788  \n",
       "CO  in mg/m3                  0.290117      1.000000           -0.050718  \n",
       " Benzene  in æg/m3            0.681788     -0.050718            1.000000  "
      ]
     },
     "execution_count": 16,
     "metadata": {},
     "output_type": "execute_result"
    }
   ],
   "source": [
    "x_df.corr()"
   ]
  },
  {
   "cell_type": "code",
   "execution_count": 17,
   "id": "f97224e2",
   "metadata": {},
   "outputs": [
    {
     "data": {
      "image/png": "[encoded data removed]",
      "text/plain": [
       "<Figure size 1440x864 with 2 Axes>"
      ]
     },
     "metadata": {
      "needs_background": "light"
     },
     "output_type": "display_data"
    }
   ],
   "source": [
    "plt.figure(figsize=(20,12))\n",
    "sns.heatmap(x_df.corr(), annot=True)\n",
    "plt.show()"
   ]
  },
  {
   "cell_type": "code",
   "execution_count": 18,
   "id": "22dca74c",
   "metadata": {},
   "outputs": [
    {
     "data": {
      "text/html": [
       "<div>\n",
       "<style scoped>\n",
       "    .dataframe tbody tr th:only-of-type {\n",
       "        vertical-align: middle;\n",
       "    }\n",
       "\n",
       "    .dataframe tbody tr th {\n",
       "        vertical-align: top;\n",
       "    }\n",
       "\n",
       "    .dataframe thead th {\n",
       "        text-align: right;\n",
       "    }\n",
       "</style>\n",
       "<table border=\"1\" class=\"dataframe\">\n",
       "  <thead>\n",
       "    <tr style=\"text-align: right;\">\n",
       "      <th></th>\n",
       "      <th>PM10 in æg/m3</th>\n",
       "      <th>SO2 in æg/m3</th>\n",
       "      <th>NOx  in æg/m3</th>\n",
       "      <th>PM2.5  in æg/m3</th>\n",
       "      <th>Ammonia - NH3  in æg/m3</th>\n",
       "      <th>O3   in æg/m3</th>\n",
       "      <th>CO  in mg/m3</th>\n",
       "      <th>Benzene  in æg/m3</th>\n",
       "    </tr>\n",
       "  </thead>\n",
       "  <tbody>\n",
       "    <tr>\n",
       "      <th>0</th>\n",
       "      <td>174.000000</td>\n",
       "      <td>26.4</td>\n",
       "      <td>35.0</td>\n",
       "      <td>79</td>\n",
       "      <td>25.0</td>\n",
       "      <td>107.6</td>\n",
       "      <td>0.90</td>\n",
       "      <td>0.70</td>\n",
       "    </tr>\n",
       "    <tr>\n",
       "      <th>1</th>\n",
       "      <td>143.000000</td>\n",
       "      <td>35.1</td>\n",
       "      <td>40.3</td>\n",
       "      <td>75</td>\n",
       "      <td>31.0</td>\n",
       "      <td>103.0</td>\n",
       "      <td>0.90</td>\n",
       "      <td>0.90</td>\n",
       "    </tr>\n",
       "    <tr>\n",
       "      <th>2</th>\n",
       "      <td>142.000000</td>\n",
       "      <td>32.1</td>\n",
       "      <td>30.9</td>\n",
       "      <td>59</td>\n",
       "      <td>26.0</td>\n",
       "      <td>80.7</td>\n",
       "      <td>0.80</td>\n",
       "      <td>0.50</td>\n",
       "    </tr>\n",
       "    <tr>\n",
       "      <th>3</th>\n",
       "      <td>117.000000</td>\n",
       "      <td>50.9</td>\n",
       "      <td>36.3</td>\n",
       "      <td>75</td>\n",
       "      <td>36.0</td>\n",
       "      <td>79.5</td>\n",
       "      <td>0.90</td>\n",
       "      <td>0.70</td>\n",
       "    </tr>\n",
       "    <tr>\n",
       "      <th>4</th>\n",
       "      <td>109.393939</td>\n",
       "      <td>41.6</td>\n",
       "      <td>25.2</td>\n",
       "      <td>53</td>\n",
       "      <td>28.0</td>\n",
       "      <td>70.0</td>\n",
       "      <td>0.50</td>\n",
       "      <td>0.50</td>\n",
       "    </tr>\n",
       "    <tr>\n",
       "      <th>...</th>\n",
       "      <td>...</td>\n",
       "      <td>...</td>\n",
       "      <td>...</td>\n",
       "      <td>...</td>\n",
       "      <td>...</td>\n",
       "      <td>...</td>\n",
       "      <td>...</td>\n",
       "      <td>...</td>\n",
       "    </tr>\n",
       "    <tr>\n",
       "      <th>67</th>\n",
       "      <td>89.000000</td>\n",
       "      <td>12.0</td>\n",
       "      <td>35.0</td>\n",
       "      <td>22</td>\n",
       "      <td>26.0</td>\n",
       "      <td>15.2</td>\n",
       "      <td>0.64</td>\n",
       "      <td>0.09</td>\n",
       "    </tr>\n",
       "    <tr>\n",
       "      <th>68</th>\n",
       "      <td>92.000000</td>\n",
       "      <td>13.0</td>\n",
       "      <td>37.3</td>\n",
       "      <td>30</td>\n",
       "      <td>31.0</td>\n",
       "      <td>10.0</td>\n",
       "      <td>0.70</td>\n",
       "      <td>0.06</td>\n",
       "    </tr>\n",
       "    <tr>\n",
       "      <th>69</th>\n",
       "      <td>93.000000</td>\n",
       "      <td>12.0</td>\n",
       "      <td>30.7</td>\n",
       "      <td>46</td>\n",
       "      <td>28.0</td>\n",
       "      <td>9.7</td>\n",
       "      <td>0.67</td>\n",
       "      <td>0.07</td>\n",
       "    </tr>\n",
       "    <tr>\n",
       "      <th>70</th>\n",
       "      <td>87.000000</td>\n",
       "      <td>10.4</td>\n",
       "      <td>28.2</td>\n",
       "      <td>78</td>\n",
       "      <td>30.0</td>\n",
       "      <td>12.1</td>\n",
       "      <td>1.52</td>\n",
       "      <td>0.03</td>\n",
       "    </tr>\n",
       "    <tr>\n",
       "      <th>71</th>\n",
       "      <td>88.000000</td>\n",
       "      <td>13.0</td>\n",
       "      <td>34.5</td>\n",
       "      <td>72</td>\n",
       "      <td>15.0</td>\n",
       "      <td>16.5</td>\n",
       "      <td>1.39</td>\n",
       "      <td>0.04</td>\n",
       "    </tr>\n",
       "  </tbody>\n",
       "</table>\n",
       "<p>72 rows × 8 columns</p>\n",
       "</div>"
      ],
      "text/plain": [
       "    PM10 in æg/m3  SO2 in æg/m3  NOx  in æg/m3   PM2.5  in æg/m3  \\\n",
       "0      174.000000          26.4           35.0                79   \n",
       "1      143.000000          35.1           40.3                75   \n",
       "2      142.000000          32.1           30.9                59   \n",
       "3      117.000000          50.9           36.3                75   \n",
       "4      109.393939          41.6           25.2                53   \n",
       "..            ...           ...            ...               ...   \n",
       "67      89.000000          12.0           35.0                22   \n",
       "68      92.000000          13.0           37.3                30   \n",
       "69      93.000000          12.0           30.7                46   \n",
       "70      87.000000          10.4           28.2                78   \n",
       "71      88.000000          13.0           34.5                72   \n",
       "\n",
       "    Ammonia - NH3  in æg/m3  O3   in æg/m3  CO  in mg/m3   Benzene  in æg/m3  \n",
       "0                      25.0          107.6          0.90                0.70  \n",
       "1                      31.0          103.0          0.90                0.90  \n",
       "2                      26.0           80.7          0.80                0.50  \n",
       "3                      36.0           79.5          0.90                0.70  \n",
       "4                      28.0           70.0          0.50                0.50  \n",
       "..                      ...            ...           ...                 ...  \n",
       "67                     26.0           15.2          0.64                0.09  \n",
       "68                     31.0           10.0          0.70                0.06  \n",
       "69                     28.0            9.7          0.67                0.07  \n",
       "70                     30.0           12.1          1.52                0.03  \n",
       "71                     15.0           16.5          1.39                0.04  \n",
       "\n",
       "[72 rows x 8 columns]"
      ]
     },
     "execution_count": 18,
     "metadata": {},
     "output_type": "execute_result"
    }
   ],
   "source": [
    "x_df"
   ]
  },
  {
   "cell_type": "code",
   "execution_count": 19,
   "id": "6861a3d3",
   "metadata": {},
   "outputs": [
    {
     "data": {
      "image/png": "[encoded data removed]",
      "text/plain": [
       "<Figure size 432x288 with 9 Axes>"
      ]
     },
     "metadata": {
      "needs_background": "light"
     },
     "output_type": "display_data"
    }
   ],
   "source": [
    "x_df.hist()\n",
    "plt.show()"
   ]
  },
  {
   "cell_type": "code",
   "execution_count": 20,
   "id": "aa922ba4",
   "metadata": {},
   "outputs": [],
   "source": [
    "x = x_df\n",
    "y = df['AQI']"
   ]
  },
  {
   "cell_type": "code",
   "execution_count": 21,
   "id": "1aea778c",
   "metadata": {},
   "outputs": [],
   "source": [
    "#Splitting our dataset into training and test set\n",
    "from sklearn.model_selection import train_test_split"
   ]
  },
  {
   "cell_type": "code",
   "execution_count": 22,
   "id": "d7a8cf20",
   "metadata": {},
   "outputs": [],
   "source": [
    "x_train, x_test, y_train, y_test = train_test_split(x, y, test_size=0.1)"
   ]
  },
  {
   "cell_type": "code",
   "execution_count": 23,
   "id": "7c6ca35a",
   "metadata": {},
   "outputs": [],
   "source": [
    "#standardize the both the training indeoendent variable and testing independent variable\n",
    "from sklearn.preprocessing import StandardScaler"
   ]
  },
  {
   "cell_type": "code",
   "execution_count": 24,
   "id": "9ba1c80d",
   "metadata": {},
   "outputs": [],
   "source": [
    "scaler = StandardScaler()"
   ]
  },
  {
   "cell_type": "code",
   "execution_count": 25,
   "id": "5f0bb0f1",
   "metadata": {},
   "outputs": [],
   "source": [
    "x_train_scaled = scaler.fit_transform(x_train)"
   ]
  },
  {
   "cell_type": "code",
   "execution_count": 26,
   "id": "a22b208c",
   "metadata": {},
   "outputs": [],
   "source": [
    "x_test_scaled = scaler.fit_transform(x_test)"
   ]
  },
  {
   "cell_type": "code",
   "execution_count": 27,
   "id": "aed9c9f9",
   "metadata": {},
   "outputs": [],
   "source": [
    "#Import the list of Machine Learning algorithms we will be using\n",
    "from sklearn.linear_model import LinearRegression\n",
    "from sklearn.svm import SVR\n",
    "from sklearn.ensemble import RandomForestRegressor\n",
    "from sklearn.tree import DecisionTreeRegressor\n",
    "from sklearn.neighbors import KNeighborsRegressor\n",
    "from sklearn.neural_network import MLPRegressor"
   ]
  },
  {
   "cell_type": "code",
   "execution_count": 28,
   "id": "6c399dc7",
   "metadata": {},
   "outputs": [],
   "source": [
    "models = {\n",
    "    'LR': LinearRegression(),\n",
    "    'SVM':SVR(),\n",
    "    'RF': RandomForestRegressor(),\n",
    "    'DT': DecisionTreeRegressor(),\n",
    "    'KNN': KNeighborsRegressor(),\n",
    "    'NN': MLPRegressor()\n",
    "}"
   ]
  },
  {
   "cell_type": "code",
   "execution_count": 29,
   "id": "c4a5fdb9",
   "metadata": {},
   "outputs": [],
   "source": [
    "def model_building(model, x_train_scaled, x_test_scaled, y_train, y_test):\n",
    "    model_fit = model.fit(x_train_scaled, y_train)\n",
    "    print(model_fit, ':')\n",
    "    y_pred = model.predict(x_test_scaled)\n",
    "    score = model.score(x_test_scaled, y_test)\n",
    "    print(score)"
   ]
  },
  {
   "cell_type": "code",
   "execution_count": 30,
   "id": "730db30c",
   "metadata": {},
   "outputs": [
    {
     "name": "stdout",
     "output_type": "stream",
     "text": [
      "LinearRegression() :\n",
      "-1.4704216422910767\n",
      "SVR() :\n",
      "0.034752687914529234\n",
      "RandomForestRegressor() :\n",
      "-0.5155259573124016\n",
      "DecisionTreeRegressor() :\n",
      "-2.4838669437048524\n",
      "KNeighborsRegressor() :\n",
      "0.09374599903236547\n",
      "MLPRegressor() :\n",
      "-55.71019429560591\n"
     ]
    },
    {
     "name": "stderr",
     "output_type": "stream",
     "text": [
      "c:\\Users\\TeeFaith\\anaconda3\\lib\\site-packages\\sklearn\\neural_network\\_multilayer_perceptron.py:614: ConvergenceWarning: Stochastic Optimizer: Maximum iterations (200) reached and the optimization hasn't converged yet.\n",
      "  warnings.warn(\n"
     ]
    }
   ],
   "source": [
    "for i in range(len(models)):\n",
    "    model = list(models.values())[i]\n",
    "    model_building(model, x_train_scaled, x_test_scaled, y_train, y_test)"
   ]
  },
  {
   "cell_type": "code",
   "execution_count": 31,
   "id": "a0e2082d",
   "metadata": {},
   "outputs": [],
   "source": [
    "final_model = DecisionTreeRegressor()"
   ]
  },
  {
   "cell_type": "code",
   "execution_count": 32,
   "id": "69ef6ce7",
   "metadata": {},
   "outputs": [
    {
     "data": {
      "text/plain": [
       "DecisionTreeRegressor()"
      ]
     },
     "execution_count": 32,
     "metadata": {},
     "output_type": "execute_result"
    }
   ],
   "source": [
    "final_model.fit(x_test_scaled, y_test)"
   ]
  },
  {
   "cell_type": "code",
   "execution_count": 33,
   "id": "d455a971",
   "metadata": {},
   "outputs": [],
   "source": [
    "import joblib"
   ]
  },
  {
   "cell_type": "code",
   "execution_count": 34,
   "id": "b3cd2995",
   "metadata": {},
   "outputs": [
    {
     "data": {
      "text/plain": [
       "['AQI_MODEL']"
      ]
     },
     "execution_count": 34,
     "metadata": {},
     "output_type": "execute_result"
    }
   ],
   "source": [
    "joblib.dump(final_model, 'AQI_MODEL')"
   ]
  }
 ],
 "metadata": {
  "kernelspec": {
   "display_name": "Python 3 (ipykernel)",
   "language": "python",
   "name": "python3"
  },
  "language_info": {
   "codemirror_mode": {
    "name": "ipython",
    "version": 3
   },
   "file_extension": ".py",
   "mimetype": "text/x-python",
   "name": "python",
   "nbconvert_exporter": "python",
   "pygments_lexer": "ipython3",
   "version": "3.9.7"
  }
 },
 "nbformat": 4,
 "nbformat_minor": 5
}
